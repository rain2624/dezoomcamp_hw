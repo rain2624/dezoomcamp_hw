{
 "cells": [
  {
   "cell_type": "markdown",
   "id": "75215254-4b7c-4541-bcf8-c46dc63bdd80",
   "metadata": {},
   "source": [
    "## Question 1: Install Spark and PySpark"
   ]
  },
  {
   "cell_type": "code",
   "execution_count": 1,
   "id": "e2b5750b-f7ce-4a61-89e8-bec90b356807",
   "metadata": {
    "scrolled": true
   },
   "outputs": [
    {
     "name": "stdout",
     "output_type": "stream",
     "text": [
      "Requirement already satisfied: findspark in c:\\users\\rania\\appdata\\local\\programs\\python\\python311\\lib\\site-packages (2.0.1)\n"
     ]
    },
    {
     "name": "stderr",
     "output_type": "stream",
     "text": [
      "\n",
      "[notice] A new release of pip is available: 23.1.2 -> 25.0.1\n",
      "[notice] To update, run: python.exe -m pip install --upgrade pip\n"
     ]
    }
   ],
   "source": [
    "!pip install findspark"
   ]
  },
  {
   "cell_type": "code",
   "execution_count": 24,
   "id": "12383ec5-a154-4d1b-b8be-9d744b28818c",
   "metadata": {},
   "outputs": [],
   "source": [
    "import findspark\n",
    "findspark.init()\n",
    "from pyspark.sql import SparkSession\n",
    "from pyspark.sql import functions as F"
   ]
  },
  {
   "cell_type": "code",
   "execution_count": 4,
   "id": "0ca38fee-54a9-4afe-86fe-ae15d887d38c",
   "metadata": {},
   "outputs": [],
   "source": [
    "spark = SparkSession.builder.master('local[*]')\\\n",
    "    .appName('Solving pyspark hw')\\\n",
    "    .getOrCreate()"
   ]
  },
  {
   "cell_type": "code",
   "execution_count": 5,
   "id": "5706a590-b4fe-4b03-a673-4c27316fc03b",
   "metadata": {},
   "outputs": [
    {
     "name": "stderr",
     "output_type": "stream",
     "text": [
      "  % Total    % Received % Xferd  Average Speed   Time    Time     Time  Current\n",
      "                                 Dload  Upload   Total   Spent    Left  Speed\n",
      "\n",
      "  0     0    0     0    0     0      0      0 --:--:-- --:--:-- --:--:--     0\n",
      "  0     0    0     0    0     0      0      0 --:--:-- --:--:-- --:--:--     0\n",
      "  0 61.3M    0  220k    0     0   190k      0  0:05:29  0:00:01  0:05:28  190k\n",
      "  0 61.3M    0  476k    0     0   202k      0  0:05:09  0:00:02  0:05:07  203k\n",
      "  3 61.3M    3 2355k    0     0   748k      0  0:01:23  0:00:03  0:01:20  749k\n",
      " 12 61.3M   12 7553k    0     0  1763k      0  0:00:35  0:00:04  0:00:31 1764k\n",
      " 23 61.3M   23 14.6M    0     0  2919k      0  0:00:21  0:00:05  0:00:16 3063k\n",
      " 32 61.3M   32 20.2M    0     0  3194k      0  0:00:19  0:00:06  0:00:13 3846k\n",
      " 43 61.3M   43 26.8M    0     0  3850k      0  0:00:16  0:00:07  0:00:09 5635k\n",
      " 53 61.3M   53 32.9M    0     0  4136k      0  0:00:15  0:00:08  0:00:07 6267k\n",
      " 63 61.3M   63 39.0M    0     0  4364k      0  0:00:14  0:00:09  0:00:05 6644k\n",
      " 73 61.3M   73 45.0M    0     0  4539k      0  0:00:13  0:00:10  0:00:03 6207k\n",
      " 83 61.3M   83 51.0M    0     0  4686k      0  0:00:13  0:00:11  0:00:02 6764k\n",
      " 92 61.3M   92 57.0M    0     0  4807k      0  0:00:13  0:00:12  0:00:01 6177k\n",
      "100 61.3M  100 61.3M    0     0  4844k      0  0:00:12  0:00:12 --:--:-- 6044k\n"
     ]
    }
   ],
   "source": [
    "!curl -O -L https://d37ci6vzurychx.cloudfront.net/trip-data/yellow_tripdata_2024-10.parquet"
   ]
  },
  {
   "cell_type": "markdown",
   "id": "a72d5894-60db-47c8-910d-42aec8038a83",
   "metadata": {},
   "source": [
    "## Question 2: Yellow October 2024"
   ]
  },
  {
   "cell_type": "code",
   "execution_count": 6,
   "id": "68547863-f73b-4fbd-b1b0-49aa6338f4b5",
   "metadata": {},
   "outputs": [],
   "source": [
    "yellow_df = spark.read.parquet(\"yellow_tripdata_2024-10.parquet\")"
   ]
  },
  {
   "cell_type": "code",
   "execution_count": 7,
   "id": "9930ced0-1d7a-46a6-99e0-bf05305d58e2",
   "metadata": {},
   "outputs": [],
   "source": [
    "yellow_df\\\n",
    "    .repartition(4)\\\n",
    "    .write.parquet('data/pq/yellow')"
   ]
  },
  {
   "cell_type": "code",
   "execution_count": 9,
   "id": "9d64eae5-ccd3-459f-98c3-2fffad28160e",
   "metadata": {},
   "outputs": [
    {
     "name": "stdout",
     "output_type": "stream",
     "text": [
      "root\n",
      " |-- VendorID: integer (nullable = true)\n",
      " |-- tpep_pickup_datetime: timestamp_ntz (nullable = true)\n",
      " |-- tpep_dropoff_datetime: timestamp_ntz (nullable = true)\n",
      " |-- passenger_count: long (nullable = true)\n",
      " |-- trip_distance: double (nullable = true)\n",
      " |-- RatecodeID: long (nullable = true)\n",
      " |-- store_and_fwd_flag: string (nullable = true)\n",
      " |-- PULocationID: integer (nullable = true)\n",
      " |-- DOLocationID: integer (nullable = true)\n",
      " |-- payment_type: long (nullable = true)\n",
      " |-- fare_amount: double (nullable = true)\n",
      " |-- extra: double (nullable = true)\n",
      " |-- mta_tax: double (nullable = true)\n",
      " |-- tip_amount: double (nullable = true)\n",
      " |-- tolls_amount: double (nullable = true)\n",
      " |-- improvement_surcharge: double (nullable = true)\n",
      " |-- total_amount: double (nullable = true)\n",
      " |-- congestion_surcharge: double (nullable = true)\n",
      " |-- Airport_fee: double (nullable = true)\n",
      "\n"
     ]
    }
   ],
   "source": [
    "yellow_df.printSchema()"
   ]
  },
  {
   "cell_type": "markdown",
   "id": "84d3ca0a-0f03-4050-8770-e80f0b27569e",
   "metadata": {},
   "source": [
    "## Question 3: Count records\n",
    "\n",
    "How many taxi trips were there on the 15th of October?\n",
    "\n",
    "Consider only trips that started on the 15th of October."
   ]
  },
  {
   "cell_type": "code",
   "execution_count": 12,
   "id": "cd51c92b-536b-4375-beae-ebcb1442bff5",
   "metadata": {
    "scrolled": true
   },
   "outputs": [
    {
     "data": {
      "text/plain": [
       "3833771"
      ]
     },
     "execution_count": 12,
     "metadata": {},
     "output_type": "execute_result"
    }
   ],
   "source": [
    "yellow_df.count()"
   ]
  },
  {
   "cell_type": "code",
   "execution_count": 14,
   "id": "e502529c-766d-4ecd-a2c0-ed3f328cb487",
   "metadata": {},
   "outputs": [],
   "source": [
    "yellow_df.createTempView('yellow_trip_data')"
   ]
  },
  {
   "cell_type": "code",
   "execution_count": 57,
   "id": "98e6f8ea-d1a2-4cb1-9aca-d22c1311b797",
   "metadata": {},
   "outputs": [
    {
     "name": "stdout",
     "output_type": "stream",
     "text": [
      "+--------+---------------+-----+---+--------------------+---------------------+\n",
      "|VendorID|passenger_count|month|day|tpep_pickup_datetime|tpep_dropoff_datetime|\n",
      "+--------+---------------+-----+---+--------------------+---------------------+\n",
      "|       2|              1|   10|  1| 2024-10-01 00:30:44|  2024-10-01 00:48:26|\n",
      "|       1|              1|   10|  1| 2024-10-01 00:12:20|  2024-10-01 00:25:25|\n",
      "|       1|              1|   10|  1| 2024-10-01 00:04:46|  2024-10-01 00:13:52|\n",
      "|       1|              1|   10|  1| 2024-10-01 00:12:10|  2024-10-01 00:23:01|\n",
      "|       1|              1|   10|  1| 2024-10-01 00:30:22|  2024-10-01 00:30:39|\n",
      "|       2|              2|   10|  1| 2024-10-01 00:31:20|  2024-10-01 00:36:00|\n",
      "|       1|              1|   10|  1| 2024-10-01 00:42:57|  2024-10-01 00:49:01|\n",
      "|       1|              1|   10|  1| 2024-10-01 00:59:55|  2024-10-01 01:02:24|\n",
      "|       1|              0|   10|  1| 2024-10-01 00:00:47|  2024-10-01 00:04:22|\n",
      "|       1|              1|   10|  1| 2024-10-01 00:17:36|  2024-10-01 00:26:22|\n",
      "|       1|              1|   10|  1| 2024-10-01 00:49:00|  2024-10-01 00:52:20|\n",
      "|       2|              1|   10|  1| 2024-10-01 00:07:26|  2024-10-01 00:13:20|\n",
      "|       2|              1|   10|  1| 2024-10-01 00:17:11|  2024-10-01 00:25:00|\n",
      "|       2|              1|   10|  1| 2024-10-01 00:00:34|  2024-10-01 00:05:13|\n",
      "|       2|              1|    9| 30| 2024-09-30 23:58:40|  2024-10-01 00:20:26|\n",
      "|       1|              1|   10|  1| 2024-10-01 00:55:29|  2024-10-01 01:42:35|\n",
      "|       1|              1|   10|  1| 2024-10-01 00:08:59|  2024-10-01 00:40:58|\n",
      "|       2|              2|   10|  1| 2024-10-01 00:18:38|  2024-10-01 00:36:47|\n",
      "|       2|              2|   10|  1| 2024-10-01 00:18:38|  2024-10-01 00:36:47|\n",
      "|       2|              1|   10|  1| 2024-10-01 00:39:33|  2024-10-01 00:53:59|\n",
      "+--------+---------------+-----+---+--------------------+---------------------+\n",
      "only showing top 20 rows\n",
      "\n"
     ]
    }
   ],
   "source": [
    "spark.sql(\"\"\"\n",
    "Select VendorID, passenger_count,extract(month from tpep_pickup_datetime) as month,\n",
    "extract(day from tpep_pickup_datetime) as day,\n",
    "tpep_pickup_datetime, tpep_dropoff_datetime\n",
    "from yellow_trip_data\n",
    "\"\"\").show()"
   ]
  },
  {
   "cell_type": "code",
   "execution_count": 58,
   "id": "294ff9f0-8a60-48b7-b819-d3be6495650d",
   "metadata": {},
   "outputs": [],
   "source": [
    "df_results = spark.sql(\"\"\"\n",
    "Select VendorID, passenger_count,extract(month from tpep_pickup_datetime) as month,\n",
    "extract(year from tpep_pickup_datetime) as year,\n",
    "extract(day from tpep_pickup_datetime) as day,\n",
    "tpep_pickup_datetime\n",
    "from yellow_trip_data\n",
    "\"\"\")"
   ]
  },
  {
   "cell_type": "code",
   "execution_count": 54,
   "id": "b5a04074-7648-4d93-9637-d8d28922e41f",
   "metadata": {},
   "outputs": [
    {
     "data": {
      "text/plain": [
       "128893"
      ]
     },
     "execution_count": 54,
     "metadata": {},
     "output_type": "execute_result"
    }
   ],
   "source": [
    "df_results.filter((F.col('day') == 15) & (F.col('month') == 10)& (F.col('year') == 2024)).count()"
   ]
  },
  {
   "cell_type": "markdown",
   "id": "211af749-55a8-4fda-8177-b36d250b09e9",
   "metadata": {},
   "source": [
    "## Question 4: Longest trip\n",
    "\n",
    "What is the length of the longest trip in the dataset in hours?"
   ]
  },
  {
   "cell_type": "code",
   "execution_count": 55,
   "id": "b40fa1e3-4a6d-4af9-898b-5e97b181671c",
   "metadata": {
    "scrolled": true
   },
   "outputs": [
    {
     "name": "stdout",
     "output_type": "stream",
     "text": [
      "+------------------+\n",
      "|    max_trip_hours|\n",
      "+------------------+\n",
      "|162.61777777777777|\n",
      "+------------------+\n",
      "\n"
     ]
    }
   ],
   "source": [
    "spark.sql(\"\"\"\n",
    "SELECT \n",
    "    MAX( (UNIX_TIMESTAMP(tpep_dropoff_datetime) - UNIX_TIMESTAMP(tpep_pickup_datetime)) / 3600 ) AS max_trip_hours\n",
    "FROM yellow_trip_data;\n",
    "\"\"\").show()"
   ]
  },
  {
   "cell_type": "markdown",
   "id": "ff231e21-7c28-46bc-85ba-b76c5a14a1c9",
   "metadata": {},
   "source": [
    "## Question 6: Least frequent pickup location zone\n",
    "Load the zone lookup data into a temp view in Spark:"
   ]
  },
  {
   "cell_type": "code",
   "execution_count": 59,
   "id": "0fd3fdfc-22f9-4d9c-bc52-10dca72aee5c",
   "metadata": {},
   "outputs": [
    {
     "name": "stderr",
     "output_type": "stream",
     "text": [
      "  % Total    % Received % Xferd  Average Speed   Time    Time     Time  Current\n",
      "                                 Dload  Upload   Total   Spent    Left  Speed\n",
      "\n",
      "  0     0    0     0    0     0      0      0 --:--:-- --:--:-- --:--:--     0\n",
      "100 12331  100 12331    0     0  12113      0  0:00:01  0:00:01 --:--:-- 12148\n",
      "100 12331  100 12331    0     0  12112      0  0:00:01  0:00:01 --:--:-- 12148\n"
     ]
    }
   ],
   "source": [
    "!curl -O -L https://d37ci6vzurychx.cloudfront.net/misc/taxi_zone_lookup.csv"
   ]
  },
  {
   "cell_type": "code",
   "execution_count": 66,
   "id": "246e9c67-310e-4b12-beda-b7f433c70764",
   "metadata": {},
   "outputs": [],
   "source": [
    "zone_df = spark.read.option(\"header\", \"True\").csv('taxi_zone_lookup.csv')"
   ]
  },
  {
   "cell_type": "code",
   "execution_count": 67,
   "id": "141e59f1-38aa-4e05-bd18-67631b1efe30",
   "metadata": {},
   "outputs": [
    {
     "name": "stdout",
     "output_type": "stream",
     "text": [
      "+----------+-------------+--------------------+------------+\n",
      "|LocationID|      Borough|                Zone|service_zone|\n",
      "+----------+-------------+--------------------+------------+\n",
      "|         1|          EWR|      Newark Airport|         EWR|\n",
      "|         2|       Queens|         Jamaica Bay|   Boro Zone|\n",
      "|         3|        Bronx|Allerton/Pelham G...|   Boro Zone|\n",
      "|         4|    Manhattan|       Alphabet City| Yellow Zone|\n",
      "|         5|Staten Island|       Arden Heights|   Boro Zone|\n",
      "|         6|Staten Island|Arrochar/Fort Wad...|   Boro Zone|\n",
      "|         7|       Queens|             Astoria|   Boro Zone|\n",
      "|         8|       Queens|        Astoria Park|   Boro Zone|\n",
      "|         9|       Queens|          Auburndale|   Boro Zone|\n",
      "|        10|       Queens|        Baisley Park|   Boro Zone|\n",
      "|        11|     Brooklyn|          Bath Beach|   Boro Zone|\n",
      "|        12|    Manhattan|        Battery Park| Yellow Zone|\n",
      "|        13|    Manhattan|   Battery Park City| Yellow Zone|\n",
      "|        14|     Brooklyn|           Bay Ridge|   Boro Zone|\n",
      "|        15|       Queens|Bay Terrace/Fort ...|   Boro Zone|\n",
      "|        16|       Queens|             Bayside|   Boro Zone|\n",
      "|        17|     Brooklyn|             Bedford|   Boro Zone|\n",
      "|        18|        Bronx|        Bedford Park|   Boro Zone|\n",
      "|        19|       Queens|           Bellerose|   Boro Zone|\n",
      "|        20|        Bronx|             Belmont|   Boro Zone|\n",
      "+----------+-------------+--------------------+------------+\n",
      "only showing top 20 rows\n",
      "\n"
     ]
    }
   ],
   "source": [
    "zone_df.show()"
   ]
  },
  {
   "cell_type": "code",
   "execution_count": 68,
   "id": "a38a78a0-17b1-4dc2-a297-a3500bdb0acb",
   "metadata": {},
   "outputs": [],
   "source": [
    "## Joing 2 df\n",
    "\n",
    "df_results = yellow_df.join(zone_df, yellow_df.PULocationID==zone_df.LocationID)"
   ]
  },
  {
   "cell_type": "code",
   "execution_count": 72,
   "id": "f2307029-2f93-45a7-9e49-19ae9e9193d8",
   "metadata": {},
   "outputs": [],
   "source": [
    "df_results = df_results.drop('LocationID')"
   ]
  },
  {
   "cell_type": "code",
   "execution_count": 76,
   "id": "edd69ecc-e20d-4d9f-9fea-59bab8687984",
   "metadata": {},
   "outputs": [
    {
     "name": "stdout",
     "output_type": "stream",
     "text": [
      "+--------+--------------------+---------------------+---------------+-------------+----------+------------------+------------+------------+------------+-----------+-----+-------+----------+------------+---------------------+------------+--------------------+-----------+---------+--------------------+------------+\n",
      "|VendorID|tpep_pickup_datetime|tpep_dropoff_datetime|passenger_count|trip_distance|RatecodeID|store_and_fwd_flag|PULocationID|DOLocationID|payment_type|fare_amount|extra|mta_tax|tip_amount|tolls_amount|improvement_surcharge|total_amount|congestion_surcharge|Airport_fee|  Borough|                Zone|service_zone|\n",
      "+--------+--------------------+---------------------+---------------+-------------+----------+------------------+------------+------------+------------+-----------+-----+-------+----------+------------+---------------------+------------+--------------------+-----------+---------+--------------------+------------+\n",
      "|       2| 2024-10-01 00:30:44|  2024-10-01 00:48:26|              1|          3.0|         1|                 N|         162|         246|           1|       18.4|  1.0|    0.5|       1.5|         0.0|                  1.0|        24.9|                 2.5|        0.0|Manhattan|        Midtown East| Yellow Zone|\n",
      "|       1| 2024-10-01 00:12:20|  2024-10-01 00:25:25|              1|          2.2|         1|                 N|          48|         236|           1|       14.2|  3.5|    0.5|       3.8|         0.0|                  1.0|        23.0|                 2.5|        0.0|Manhattan|        Clinton East| Yellow Zone|\n",
      "|       1| 2024-10-01 00:04:46|  2024-10-01 00:13:52|              1|          2.7|         1|                 N|         142|          24|           1|       13.5|  3.5|    0.5|       3.7|         0.0|                  1.0|        22.2|                 2.5|        0.0|Manhattan| Lincoln Square East| Yellow Zone|\n",
      "|       1| 2024-10-01 00:12:10|  2024-10-01 00:23:01|              1|          3.1|         1|                 N|         233|          75|           1|       14.2|  3.5|    0.5|       2.0|         0.0|                  1.0|        21.2|                 2.5|        0.0|Manhattan| UN/Turtle Bay South| Yellow Zone|\n",
      "|       1| 2024-10-01 00:30:22|  2024-10-01 00:30:39|              1|          0.0|         1|                 N|         262|         262|           3|        3.0|  3.5|    0.5|       0.0|         0.0|                  1.0|         8.0|                 2.5|        0.0|Manhattan|      Yorkville East| Yellow Zone|\n",
      "|       2| 2024-10-01 00:31:20|  2024-10-01 00:36:00|              2|         0.97|         1|                 N|         137|         137|           1|        7.2|  1.0|    0.5|      2.44|         0.0|                  1.0|       14.64|                 2.5|        0.0|Manhattan|            Kips Bay| Yellow Zone|\n",
      "|       1| 2024-10-01 00:42:57|  2024-10-01 00:49:01|              1|          1.3|         1|                 N|         142|          48|           1|        7.9|  3.5|    0.5|      2.55|         0.0|                  1.0|       15.45|                 2.5|        0.0|Manhattan| Lincoln Square East| Yellow Zone|\n",
      "|       1| 2024-10-01 00:59:55|  2024-10-01 01:02:24|              1|          0.5|         1|                 N|         230|         161|           1|        5.1|  3.5|    0.5|       2.0|         0.0|                  1.0|        12.1|                 2.5|        0.0|Manhattan|Times Sq/Theatre ...| Yellow Zone|\n",
      "|       1| 2024-10-01 00:00:47|  2024-10-01 00:04:22|              0|          1.1|         1|                 N|         142|         237|           1|        7.2|  3.5|    0.5|       3.0|         0.0|                  1.0|        15.2|                 2.5|        0.0|Manhattan| Lincoln Square East| Yellow Zone|\n",
      "|       1| 2024-10-01 00:17:36|  2024-10-01 00:26:22|              1|          2.2|         1|                 N|         162|         145|           1|       11.4|  3.5|    0.5|       3.3|         0.0|                  1.0|        19.7|                 2.5|        0.0|Manhattan|        Midtown East| Yellow Zone|\n",
      "|       1| 2024-10-01 00:49:00|  2024-10-01 00:52:20|              1|          0.6|         1|                 N|         229|         162|           1|        5.1|  3.5|    0.5|       2.0|         0.0|                  1.0|        12.1|                 2.5|        0.0|Manhattan|Sutton Place/Turt...| Yellow Zone|\n",
      "|       2| 2024-10-01 00:07:26|  2024-10-01 00:13:20|              1|          0.9|         1|                 N|         162|         162|           1|        7.9|  1.0|    0.5|      3.87|         0.0|                  1.0|       16.77|                 2.5|        0.0|Manhattan|        Midtown East| Yellow Zone|\n",
      "|       2| 2024-10-01 00:17:11|  2024-10-01 00:25:00|              1|         1.33|         1|                 N|         162|         230|           1|        9.3|  1.0|    0.5|       2.0|         0.0|                  1.0|        16.3|                 2.5|        0.0|Manhattan|        Midtown East| Yellow Zone|\n",
      "|       2| 2024-10-01 00:00:34|  2024-10-01 00:05:13|              1|         1.79|         1|                 N|         211|         234|           1|        9.3|  1.0|    0.5|      2.86|         0.0|                  1.0|       17.16|                 2.5|        0.0|Manhattan|                SoHo| Yellow Zone|\n",
      "|       2| 2024-09-30 23:58:40|  2024-10-01 00:20:26|              1|         5.16|         1|                 N|         142|           7|           1|       24.7|  1.0|    0.5|       0.0|         0.0|                  1.0|        29.7|                 2.5|        0.0|Manhattan| Lincoln Square East| Yellow Zone|\n",
      "|       1| 2024-10-01 00:55:29|  2024-10-01 01:42:35|              1|         11.3|        99|                 N|         161|         197|           1|       39.5|  0.0|    0.5|       0.0|        6.94|                  1.0|       47.94|                 0.0|        0.0|Manhattan|      Midtown Center| Yellow Zone|\n",
      "|       1| 2024-10-01 00:08:59|  2024-10-01 00:40:58|              1|         20.6|         1|                 N|         132|         243|           2|       76.5| 2.75|    0.5|       0.0|        6.94|                  1.0|       87.69|                 0.0|       1.75|   Queens|         JFK Airport|    Airports|\n",
      "|       2| 2024-10-01 00:18:38|  2024-10-01 00:36:47|              2|         7.42|         1|                 N|         239|         247|           4|      -33.1| -1.0|   -0.5|       0.0|         0.0|                 -1.0|       -38.1|                -2.5|        0.0|Manhattan|Upper West Side S...| Yellow Zone|\n",
      "|       2| 2024-10-01 00:18:38|  2024-10-01 00:36:47|              2|         7.42|         1|                 N|         239|         247|           4|       33.1|  1.0|    0.5|       0.0|         0.0|                  1.0|        38.1|                 2.5|        0.0|Manhattan|Upper West Side S...| Yellow Zone|\n",
      "|       2| 2024-10-01 00:39:33|  2024-10-01 00:53:59|              1|         4.49|         1|                 N|         247|          60|           2|       21.9|  1.0|    0.5|       0.0|         0.0|                  1.0|        24.4|                 0.0|        0.0|    Bronx|      West Concourse|   Boro Zone|\n",
      "+--------+--------------------+---------------------+---------------+-------------+----------+------------------+------------+------------+------------+-----------+-----+-------+----------+------------+---------------------+------------+--------------------+-----------+---------+--------------------+------------+\n",
      "only showing top 20 rows\n",
      "\n"
     ]
    }
   ],
   "source": [
    "df_results.show()"
   ]
  },
  {
   "cell_type": "code",
   "execution_count": 73,
   "id": "569f2fea-de83-4ecb-8eb3-0415fa79dae1",
   "metadata": {},
   "outputs": [],
   "source": [
    "df_results.createTempView('pickup_location')"
   ]
  },
  {
   "cell_type": "code",
   "execution_count": 85,
   "id": "5a89b561-72d9-495f-b9a8-1373785e2ee1",
   "metadata": {},
   "outputs": [
    {
     "name": "stdout",
     "output_type": "stream",
     "text": [
      "+-------------------+-----+----+---------------------------------------------+\n",
      "|count(pickup_count)|month|year|pickup_zone                                  |\n",
      "+-------------------+-----+----+---------------------------------------------+\n",
      "|1                  |10   |2024|Governor's Island/Ellis Island/Liberty Island|\n",
      "|2                  |10   |2024|Rikers Island                                |\n",
      "|2                  |10   |2024|Arden Heights                                |\n",
      "|3                  |10   |2024|Jamaica Bay                                  |\n",
      "|3                  |10   |2024|Green-Wood Cemetery                          |\n",
      "|4                  |10   |2024|Eltingville/Annadale/Prince's Bay            |\n",
      "|4                  |10   |2024|Rossville/Woodrow                            |\n",
      "|4                  |10   |2024|Charleston/Tottenville                       |\n",
      "|4                  |10   |2024|Port Richmond                                |\n",
      "|4                  |10   |2024|West Brighton                                |\n",
      "|6                  |10   |2024|Great Kills                                  |\n",
      "|6                  |10   |2024|Crotona Park                                 |\n",
      "|7                  |10   |2024|Heartland Village/Todt Hill                  |\n",
      "|7                  |10   |2024|Mariners Harbor                              |\n",
      "|8                  |10   |2024|Saint George/New Brighton                    |\n",
      "|8                  |10   |2024|Oakwood                                      |\n",
      "|9                  |10   |2024|New Dorp/Midland Beach                       |\n",
      "|9                  |10   |2024|Broad Channel                                |\n",
      "|11                 |10   |2024|Pelham Bay Park                              |\n",
      "|12                 |10   |2024|Breezy Point/Fort Tilden/Riis Beach          |\n",
      "+-------------------+-----+----+---------------------------------------------+\n",
      "only showing top 20 rows\n",
      "\n"
     ]
    }
   ],
   "source": [
    "spark.sql(\"\"\"\n",
    "select count(pickup_count), month, year, pickup_zone\n",
    "from (Select extract(month from tpep_pickup_datetime) as month,\n",
    "extract(year from tpep_pickup_datetime) as year,\n",
    "tpep_pickup_datetime, Zone as pickup_zone, count(PULocationID) as pickup_count\n",
    "from pickup_location\n",
    "group by 1,2,3,4\n",
    "order by 4)as sub\n",
    "where month = 10 and\n",
    "year = 2024\n",
    "group by 2,3,4\n",
    "order by 1 \n",
    "\"\"\").show(truncate = False)"
   ]
  },
  {
   "cell_type": "code",
   "execution_count": null,
   "id": "76b8aa31-1ff6-4869-a7f5-cc20b341114d",
   "metadata": {},
   "outputs": [],
   "source": []
  }
 ],
 "metadata": {
  "kernelspec": {
   "display_name": "Python 3 (ipykernel)",
   "language": "python",
   "name": "python3"
  },
  "language_info": {
   "codemirror_mode": {
    "name": "ipython",
    "version": 3
   },
   "file_extension": ".py",
   "mimetype": "text/x-python",
   "name": "python",
   "nbconvert_exporter": "python",
   "pygments_lexer": "ipython3",
   "version": "3.11.4"
  }
 },
 "nbformat": 4,
 "nbformat_minor": 5
}
